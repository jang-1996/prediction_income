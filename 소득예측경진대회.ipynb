{
 "cells": [
  {
   "cell_type": "code",
   "execution_count": 1,
   "metadata": {
    "executionInfo": {
     "elapsed": 580,
     "status": "ok",
     "timestamp": 1650897253337,
     "user": {
      "displayName": "장영동",
      "userId": "14740320164219857652"
     },
     "user_tz": -540
    },
    "id": "083ARVJZgGPV"
   },
   "outputs": [],
   "source": [
    "import pandas as pd\n",
    "import numpy as np\n",
    "\n",
    "import random\n",
    "\n",
    "import matplotlib.pyplot as plt"
   ]
  },
  {
   "cell_type": "code",
   "execution_count": 2,
   "metadata": {
    "executionInfo": {
     "elapsed": 453,
     "status": "ok",
     "timestamp": 1650902818004,
     "user": {
      "displayName": "장영동",
      "userId": "14740320164219857652"
     },
     "user_tz": -540
    },
    "id": "V6c2HZxbgp1W"
   },
   "outputs": [],
   "source": [
    "df_train = pd.read_csv('train.csv')"
   ]
  },
  {
   "cell_type": "markdown",
   "metadata": {
    "id": "K2QtHTbnhgI7"
   },
   "source": [
    "workclass 1836\n",
    "\n",
    "occupation 1843\n",
    "\n",
    "native.country 583"
   ]
  },
  {
   "cell_type": "code",
   "execution_count": 3,
   "metadata": {
    "colab": {
     "base_uri": "https://localhost:8080/"
    },
    "executionInfo": {
     "elapsed": 10,
     "status": "ok",
     "timestamp": 1650897253805,
     "user": {
      "displayName": "장영동",
      "userId": "14740320164219857652"
     },
     "user_tz": -540
    },
    "id": "skXbtEAYgp_0",
    "outputId": "1527fc04-7b81-4321-fc27-3d92c7440a28",
    "scrolled": true
   },
   "outputs": [
    {
     "data": {
      "text/plain": [
       "array(['Private', 'State-gov', 'Local-gov', 'Self-emp-not-inc',\n",
       "       'Self-emp-inc', 'Federal-gov', 'Without-pay', nan, 'Never-worked'],\n",
       "      dtype=object)"
      ]
     },
     "execution_count": 3,
     "metadata": {},
     "output_type": "execute_result"
    }
   ],
   "source": [
    "df_train[\"workclass\"].unique()"
   ]
  },
  {
   "cell_type": "code",
   "execution_count": 4,
   "metadata": {},
   "outputs": [
    {
     "name": "stdout",
     "output_type": "stream",
     "text": [
      "<class 'pandas.core.frame.DataFrame'>\n",
      "RangeIndex: 17480 entries, 0 to 17479\n",
      "Data columns (total 16 columns):\n",
      " #   Column          Non-Null Count  Dtype \n",
      "---  ------          --------------  ----- \n",
      " 0   id              17480 non-null  int64 \n",
      " 1   age             17480 non-null  int64 \n",
      " 2   workclass       15644 non-null  object\n",
      " 3   fnlwgt          17480 non-null  int64 \n",
      " 4   education       17480 non-null  object\n",
      " 5   education.num   17480 non-null  int64 \n",
      " 6   marital.status  17480 non-null  object\n",
      " 7   occupation      15637 non-null  object\n",
      " 8   relationship    17480 non-null  object\n",
      " 9   race            17480 non-null  object\n",
      " 10  sex             17480 non-null  object\n",
      " 11  capital.gain    17480 non-null  int64 \n",
      " 12  capital.loss    17480 non-null  int64 \n",
      " 13  hours.per.week  17480 non-null  int64 \n",
      " 14  native.country  16897 non-null  object\n",
      " 15  target          17480 non-null  int64 \n",
      "dtypes: int64(8), object(8)\n",
      "memory usage: 2.1+ MB\n"
     ]
    }
   ],
   "source": [
    "df_train.info()"
   ]
  },
  {
   "cell_type": "code",
   "execution_count": 5,
   "metadata": {
    "scrolled": true
   },
   "outputs": [],
   "source": [
    "df = df_train.dropna(axis = 0)"
   ]
  },
  {
   "cell_type": "code",
   "execution_count": 6,
   "metadata": {
    "scrolled": false
   },
   "outputs": [
    {
     "data": {
      "text/plain": [
       "array([10, 15,  7, 13,  9, 16, 14,  5,  4, 11, 12,  6,  8,  3,  2])"
      ]
     },
     "execution_count": 6,
     "metadata": {},
     "output_type": "execute_result"
    }
   ],
   "source": [
    "df[(df[\"target\"] == 1)&(df[\"sex\"]==\"Male\")][\"education.num\"].unique()"
   ]
  },
  {
   "cell_type": "markdown",
   "metadata": {},
   "source": [
    "## workclass"
   ]
  },
  {
   "cell_type": "code",
   "execution_count": 7,
   "metadata": {},
   "outputs": [],
   "source": [
    "# 타겟이 1이고 남자의 학력별 채워넣기 부분 분석\n",
    "for i in df[(df[\"target\"] == 1)&(df[\"sex\"]==\"Male\")]['education.num'].unique():\n",
    "    \n",
    "    work_list = df[(df[\"target\"] == 1)&(df[\"sex\"]==\"Male\")&(df[\"education.num\"]==i)]['workclass'].unique()\n",
    "    \n",
    "    for idx in df_train[(df_train[\"workclass\"].isnull())&(df_train[\"sex\"]==\"Male\")&(df_train[\"education.num\"]==i)&(df_train[\"target\"]==1)].index:\n",
    "        df_train.loc[idx,\"workclass\"] = random.choice(work_list)"
   ]
  },
  {
   "cell_type": "code",
   "execution_count": 8,
   "metadata": {},
   "outputs": [],
   "source": [
    "# 타겟이 1이고 여자의 학력별 채워넣기 부분 분석\n",
    "for i in df[(df[\"target\"] == 1)&(df[\"sex\"]==\"Female\")]['education.num'].unique():\n",
    "    \n",
    "    work_list = df[(df[\"target\"] == 1)&(df[\"sex\"]==\"Female\")&(df[\"education.num\"]==i)]['workclass'].unique()\n",
    "    \n",
    "    for idx in df_train[(df_train[\"workclass\"].isnull())&(df_train[\"sex\"]==\"Female\")&(df_train[\"education.num\"]==i)&(df_train[\"target\"]==1)].index:\n",
    "        df_train.loc[idx,\"workclass\"] = random.choice(work_list)"
   ]
  },
  {
   "cell_type": "code",
   "execution_count": 9,
   "metadata": {},
   "outputs": [],
   "source": [
    "# 타겟이 0이고 남자의 학력별 채워넣기 부분 분석\n",
    "for i in df[(df[\"target\"] == 0)&(df[\"sex\"]==\"Male\")]['education.num'].unique():\n",
    "    \n",
    "    work_list = df[(df[\"target\"] == 0)&(df[\"sex\"]==\"Male\")&(df[\"education.num\"]==i)]['workclass'].unique()\n",
    "    \n",
    "    for idx in df_train[(df_train[\"workclass\"].isnull())&(df_train[\"sex\"]==\"Male\")&(df_train[\"education.num\"]==i)&(df_train[\"target\"]==0)].index:\n",
    "        df_train.loc[idx,\"workclass\"] = random.choice(work_list)"
   ]
  },
  {
   "cell_type": "code",
   "execution_count": 10,
   "metadata": {},
   "outputs": [],
   "source": [
    "# 타겟이 0이고 여자 학력별 채워넣기 부분 분석\n",
    "for i in df[(df[\"target\"] == 0)&(df[\"sex\"]==\"Female\")]['education.num'].unique():\n",
    "    \n",
    "    work_list = df[(df[\"target\"] == 0)&(df[\"sex\"]==\"Female\")&(df[\"education.num\"]==i)]['workclass'].unique()\n",
    "    \n",
    "    for idx in df_train[(df_train[\"workclass\"].isnull())&(df_train[\"sex\"]==\"Female\")&(df_train[\"education.num\"]==i)&(df_train[\"target\"]==0)].index:\n",
    "        df_train.loc[idx,\"workclass\"] = random.choice(work_list)"
   ]
  },
  {
   "cell_type": "code",
   "execution_count": 11,
   "metadata": {},
   "outputs": [],
   "source": [
    "import seaborn as sns"
   ]
  },
  {
   "cell_type": "code",
   "execution_count": 12,
   "metadata": {},
   "outputs": [
    {
     "data": {
      "text/plain": [
       "<AxesSubplot:xlabel='workclass', ylabel='count'>"
      ]
     },
     "execution_count": 12,
     "metadata": {},
     "output_type": "execute_result"
    },
    {
     "data": {
      "image/png": "[encoded data removed]",
      "text/plain": [
       "<Figure size 432x288 with 1 Axes>"
      ]
     },
     "metadata": {
      "needs_background": "light"
     },
     "output_type": "display_data"
    }
   ],
   "source": [
    "sns.countplot(data=df_train, x= \"workclass\")"
   ]
  },
  {
   "cell_type": "markdown",
   "metadata": {},
   "source": [
    "## occupation"
   ]
  },
  {
   "cell_type": "code",
   "execution_count": 13,
   "metadata": {},
   "outputs": [],
   "source": [
    "for i in df[(df[\"target\"] == 1)&(df[\"sex\"]==\"Male\")]['education.num'].unique():\n",
    "    work_list = df[(df[\"target\"] == 1)&(df[\"sex\"]==\"Male\")&(df[\"education.num\"]==i)]['workclass'].unique()\n",
    "    for work in work_list:\n",
    "        jobs = df[(df[\"workclass\"]==work)&(df[\"sex\"]==\"Male\")&(df[\"target\"]==1)&(df[\"education.num\"]==i)][\"occupation\"].unique()\n",
    "        for idx in df_train[(df_train[\"workclass\"]==work)&(df_train[\"occupation\"].isnull())&(df_train[\"sex\"]==\"Male\")&(df_train[\"education.num\"]==i)&(df_train[\"target\"]==1)].index:\n",
    "            df_train.loc[idx,\"occupation\"] = random.choice(jobs)"
   ]
  },
  {
   "cell_type": "code",
   "execution_count": 14,
   "metadata": {},
   "outputs": [],
   "source": [
    "for i in df[(df[\"target\"] == 0)&(df[\"sex\"]==\"Male\")]['education.num'].unique():\n",
    "    work_list = df[(df[\"target\"] == 0)&(df[\"sex\"]==\"Male\")&(df[\"education.num\"]==i)]['workclass'].unique()\n",
    "        \n",
    "    for work in work_list:\n",
    "        jobs = df[(df[\"workclass\"]==work)&(df[\"sex\"]==\"Male\")&(df[\"target\"]==0)&(df[\"education.num\"]==i)][\"occupation\"].unique()\n",
    "            \n",
    "        for idx in df_train[(df_train[\"workclass\"]==work)&(df_train[\"occupation\"].isnull())&(df_train[\"sex\"]==\"Male\")&(df_train[\"education.num\"]==i)&(df_train[\"target\"]==0)].index:\n",
    "            df_train.loc[idx,\"occupation\"] = random.choice(jobs)"
   ]
  },
  {
   "cell_type": "code",
   "execution_count": 15,
   "metadata": {},
   "outputs": [],
   "source": [
    "for i in df[(df[\"target\"] == 1)&(df[\"sex\"]==\"Female\")]['education.num'].unique():\n",
    "    work_list = df[(df[\"target\"] == 1)&(df[\"sex\"]==\"Female\")&(df[\"education.num\"]==i)]['workclass'].unique()\n",
    "        \n",
    "    for work in work_list:\n",
    "        jobs = df[(df[\"workclass\"]==work)&(df[\"sex\"]==\"Female\")&(df[\"target\"]==1)&(df[\"education.num\"]==i)][\"occupation\"].unique()\n",
    "            \n",
    "        for idx in df_train[(df_train[\"workclass\"]==work)&(df_train[\"occupation\"].isnull())&(df_train[\"sex\"]==\"Female\")&(df_train[\"education.num\"]==i)&(df_train[\"target\"]==1)].index:\n",
    "            df_train.loc[idx,\"occupation\"] = random.choice(jobs)"
   ]
  },
  {
   "cell_type": "code",
   "execution_count": 16,
   "metadata": {},
   "outputs": [],
   "source": [
    "for i in df[(df[\"target\"] == 0)&(df[\"sex\"]==\"Female\")]['education.num'].unique():\n",
    "    work_list = df[(df[\"target\"] == 0)&(df[\"sex\"]==\"Female\")&(df[\"education.num\"]==i)]['workclass'].unique()\n",
    "        \n",
    "    for work in work_list:\n",
    "        jobs = df[(df[\"workclass\"]==work)&(df[\"sex\"]==\"Female\")&(df[\"target\"]==0)&(df[\"education.num\"]==i)][\"occupation\"].unique()\n",
    "            \n",
    "        for idx in df_train[(df_train[\"workclass\"]==work)&(df_train[\"occupation\"].isnull())&(df_train[\"sex\"]==\"Female\")&(df_train[\"education.num\"]==i)&(df_train[\"target\"]==0)].index:\n",
    "            df_train.loc[idx,\"occupation\"] = random.choice(jobs)"
   ]
  },
  {
   "cell_type": "code",
   "execution_count": 17,
   "metadata": {},
   "outputs": [],
   "source": [
    "for idx in df_train[(df_train[\"workclass\"] == \"Never-worked\")].index:\n",
    "    df_train.loc[idx,\"occupation\"] = \"No-job\""
   ]
  },
  {
   "cell_type": "code",
   "execution_count": 18,
   "metadata": {},
   "outputs": [
    {
     "name": "stdout",
     "output_type": "stream",
     "text": [
      "<class 'pandas.core.frame.DataFrame'>\n",
      "RangeIndex: 17480 entries, 0 to 17479\n",
      "Data columns (total 16 columns):\n",
      " #   Column          Non-Null Count  Dtype \n",
      "---  ------          --------------  ----- \n",
      " 0   id              17480 non-null  int64 \n",
      " 1   age             17480 non-null  int64 \n",
      " 2   workclass       17480 non-null  object\n",
      " 3   fnlwgt          17480 non-null  int64 \n",
      " 4   education       17480 non-null  object\n",
      " 5   education.num   17480 non-null  int64 \n",
      " 6   marital.status  17480 non-null  object\n",
      " 7   occupation      17480 non-null  object\n",
      " 8   relationship    17480 non-null  object\n",
      " 9   race            17480 non-null  object\n",
      " 10  sex             17480 non-null  object\n",
      " 11  capital.gain    17480 non-null  int64 \n",
      " 12  capital.loss    17480 non-null  int64 \n",
      " 13  hours.per.week  17480 non-null  int64 \n",
      " 14  native.country  16897 non-null  object\n",
      " 15  target          17480 non-null  int64 \n",
      "dtypes: int64(8), object(8)\n",
      "memory usage: 2.1+ MB\n"
     ]
    }
   ],
   "source": [
    "df_train.info()"
   ]
  },
  {
   "cell_type": "code",
   "execution_count": 19,
   "metadata": {
    "executionInfo": {
     "elapsed": 1400,
     "status": "ok",
     "timestamp": 1650902822182,
     "user": {
      "displayName": "장영동",
      "userId": "14740320164219857652"
     },
     "user_tz": -540
    },
    "id": "Kt322C0ak8Ub"
   },
   "outputs": [],
   "source": [
    "# # train 데이터 결측값 소득이 1이면 private\n",
    "\n",
    "# for idx in df_train[(df_train[\"workclass\"].isnull()) & (df_train[\"target\"] == 1)].index:\n",
    "#     df_train.loc[idx,\"workclass\"] = \"Private\"\n",
    "\n",
    "# for idx in df_train[(df_train[\"workclass\"].isnull()) & (df_train[\"target\"] == 0)].index:\n",
    "#     df_train.loc[idx,\"workclass\"] = \"Private\""
   ]
  },
  {
   "cell_type": "code",
   "execution_count": null,
   "metadata": {
    "executionInfo": {
     "elapsed": 552,
     "status": "ok",
     "timestamp": 1650902825167,
     "user": {
      "displayName": "장영동",
      "userId": "14740320164219857652"
     },
     "user_tz": -540
    },
    "id": "OBlTxqATtZll"
   },
   "outputs": [],
   "source": [
    "# rich_male_job_list = [\"Exec-managerial\",\"Prof-specialty\",\"Craft-repair\",\"Sales\"]\n",
    "\n",
    "# for idx in df_train[(df_train[\"occupation\"].isnull())&(df_train[\"sex\"]==\"Male\")&(df_train[\"target\"]==1)].index:\n",
    "#     df_train.loc[idx,\"occupation\"] = random.choice(rich_male_job_list)"
   ]
  },
  {
   "cell_type": "code",
   "execution_count": null,
   "metadata": {
    "executionInfo": {
     "elapsed": 864,
     "status": "ok",
     "timestamp": 1650902827415,
     "user": {
      "displayName": "장영동",
      "userId": "14740320164219857652"
     },
     "user_tz": -540
    },
    "id": "GTvqoMd0wTjz"
   },
   "outputs": [],
   "source": [
    "# poor_male_job_list = df_train[(df_train[\"workclass\"]==\"Private\")&(df_train[\"sex\"]==\"Male\")&(df_train[\"target\"]==0)][\"occupation\"].unique()[0:10]\n",
    "\n",
    "# for idx in df_train[(df_train[\"occupation\"].isnull())&(df_train[\"sex\"]==\"Male\")&(df_train[\"target\"]==0)].index:\n",
    "#     df_train.loc[idx,\"occupation\"] = random.choice(poor_male_job_list)"
   ]
  },
  {
   "cell_type": "code",
   "execution_count": null,
   "metadata": {
    "executionInfo": {
     "elapsed": 893,
     "status": "ok",
     "timestamp": 1650902828301,
     "user": {
      "displayName": "장영동",
      "userId": "14740320164219857652"
     },
     "user_tz": -540
    },
    "id": "kA7NP-DrxyF8"
   },
   "outputs": [],
   "source": [
    "# poor_female_job_list = [\"Adm-clerical\",\"Other-service\",\"Sales\",\"Prof-specialty\",\"Exec-managerial\"]\n",
    "\n",
    "# for idx in df_train[(df_train[\"occupation\"].isnull())&(df_train[\"sex\"]==\"Female\")&(df_train[\"target\"]==0)].index:\n",
    "#     df_train.loc[idx,\"occupation\"] = random.choice(poor_female_job_list)"
   ]
  },
  {
   "cell_type": "code",
   "execution_count": null,
   "metadata": {
    "executionInfo": {
     "elapsed": 12,
     "status": "ok",
     "timestamp": 1650902828302,
     "user": {
      "displayName": "장영동",
      "userId": "14740320164219857652"
     },
     "user_tz": -540
    },
    "id": "rO3zP25KusqD"
   },
   "outputs": [],
   "source": [
    "# rich_female_job_list = [\"Adm-clerical\",\"Prof-specialty\",\"Exec-managerial\"]\n",
    "\n",
    "# for idx in df_train[(df_train[\"occupation\"].isnull())&(df_train[\"sex\"]==\"Female\")&(df_train[\"target\"]==1)].index:\n",
    "#     df_train.loc[idx,\"occupation\"] = random.choice(rich_female_job_list)"
   ]
  },
  {
   "cell_type": "code",
   "execution_count": 20,
   "metadata": {
    "executionInfo": {
     "elapsed": 1039,
     "status": "ok",
     "timestamp": 1650902829332,
     "user": {
      "displayName": "장영동",
      "userId": "14740320164219857652"
     },
     "user_tz": -540
    },
    "id": "DODBrMuDygNb"
   },
   "outputs": [],
   "source": [
    "for idx in df_train[df_train[\"native.country\"].isnull()].index:\n",
    "    df_train.loc[idx,\"native.country\"] = \"United-States\""
   ]
  },
  {
   "cell_type": "code",
   "execution_count": 21,
   "metadata": {
    "executionInfo": {
     "elapsed": 3,
     "status": "ok",
     "timestamp": 1650902830560,
     "user": {
      "displayName": "장영동",
      "userId": "14740320164219857652"
     },
     "user_tz": -540
    },
    "id": "4b6rIYa7znWN"
   },
   "outputs": [],
   "source": [
    "df_train.drop(\"id\",axis=1,inplace=True)"
   ]
  },
  {
   "cell_type": "code",
   "execution_count": 22,
   "metadata": {
    "executionInfo": {
     "elapsed": 651,
     "status": "ok",
     "timestamp": 1650897257429,
     "user": {
      "displayName": "장영동",
      "userId": "14740320164219857652"
     },
     "user_tz": -540
    },
    "id": "b6ZaP9kDznaF"
   },
   "outputs": [],
   "source": [
    "from sklearn.preprocessing import LabelEncoder"
   ]
  },
  {
   "cell_type": "code",
   "execution_count": 23,
   "metadata": {
    "colab": {
     "base_uri": "https://localhost:8080/"
    },
    "executionInfo": {
     "elapsed": 9,
     "status": "ok",
     "timestamp": 1650897257429,
     "user": {
      "displayName": "장영동",
      "userId": "14740320164219857652"
     },
     "user_tz": -540
    },
    "id": "Jxv35n671YBE",
    "outputId": "a3a0e1da-1e35-4a01-ea48-c9041ce92e7b"
   },
   "outputs": [
    {
     "name": "stdout",
     "output_type": "stream",
     "text": [
      "<class 'pandas.core.frame.DataFrame'>\n",
      "RangeIndex: 17480 entries, 0 to 17479\n",
      "Data columns (total 15 columns):\n",
      " #   Column          Non-Null Count  Dtype \n",
      "---  ------          --------------  ----- \n",
      " 0   age             17480 non-null  int64 \n",
      " 1   workclass       17480 non-null  object\n",
      " 2   fnlwgt          17480 non-null  int64 \n",
      " 3   education       17480 non-null  object\n",
      " 4   education.num   17480 non-null  int64 \n",
      " 5   marital.status  17480 non-null  object\n",
      " 6   occupation      17480 non-null  object\n",
      " 7   relationship    17480 non-null  object\n",
      " 8   race            17480 non-null  object\n",
      " 9   sex             17480 non-null  object\n",
      " 10  capital.gain    17480 non-null  int64 \n",
      " 11  capital.loss    17480 non-null  int64 \n",
      " 12  hours.per.week  17480 non-null  int64 \n",
      " 13  native.country  17480 non-null  object\n",
      " 14  target          17480 non-null  int64 \n",
      "dtypes: int64(7), object(8)\n",
      "memory usage: 2.0+ MB\n"
     ]
    }
   ],
   "source": [
    "df_train.info()"
   ]
  },
  {
   "cell_type": "code",
   "execution_count": 24,
   "metadata": {
    "executionInfo": {
     "elapsed": 2,
     "status": "ok",
     "timestamp": 1650902836783,
     "user": {
      "displayName": "장영동",
      "userId": "14740320164219857652"
     },
     "user_tz": -540
    },
    "id": "6ruLPM8b2Nld"
   },
   "outputs": [],
   "source": [
    "encoder1 = LabelEncoder()\n",
    "df_train['workclass'] = encoder1.fit_transform(df_train['workclass'].values)"
   ]
  },
  {
   "cell_type": "code",
   "execution_count": 25,
   "metadata": {
    "executionInfo": {
     "elapsed": 423,
     "status": "ok",
     "timestamp": 1650902839141,
     "user": {
      "displayName": "장영동",
      "userId": "14740320164219857652"
     },
     "user_tz": -540
    },
    "id": "QFcHnVxr2Nqn"
   },
   "outputs": [],
   "source": [
    "encoder2 = LabelEncoder()\n",
    "df_train['marital.status'] = encoder2.fit_transform(df_train['marital.status'].values)"
   ]
  },
  {
   "cell_type": "code",
   "execution_count": 26,
   "metadata": {
    "executionInfo": {
     "elapsed": 6,
     "status": "ok",
     "timestamp": 1650902841195,
     "user": {
      "displayName": "장영동",
      "userId": "14740320164219857652"
     },
     "user_tz": -540
    },
    "id": "Gkr_JKS82mcK"
   },
   "outputs": [],
   "source": [
    "encoder3 = LabelEncoder()\n",
    "df_train['occupation'] = encoder3.fit_transform(df_train['occupation'].values)"
   ]
  },
  {
   "cell_type": "code",
   "execution_count": 27,
   "metadata": {
    "executionInfo": {
     "elapsed": 549,
     "status": "ok",
     "timestamp": 1650902845529,
     "user": {
      "displayName": "장영동",
      "userId": "14740320164219857652"
     },
     "user_tz": -540
    },
    "id": "dxydjN6a2me0"
   },
   "outputs": [],
   "source": [
    "encoder4 = LabelEncoder()\n",
    "df_train['relationship'] = encoder4.fit_transform(df_train['relationship'].values)"
   ]
  },
  {
   "cell_type": "code",
   "execution_count": 28,
   "metadata": {
    "executionInfo": {
     "elapsed": 3,
     "status": "ok",
     "timestamp": 1650902848884,
     "user": {
      "displayName": "장영동",
      "userId": "14740320164219857652"
     },
     "user_tz": -540
    },
    "id": "X0Xtx9KC2mhG"
   },
   "outputs": [],
   "source": [
    "encoder5 = LabelEncoder()\n",
    "df_train['race'] = encoder5.fit_transform(df_train['race'].values)"
   ]
  },
  {
   "cell_type": "code",
   "execution_count": 29,
   "metadata": {
    "executionInfo": {
     "elapsed": 424,
     "status": "ok",
     "timestamp": 1650902853829,
     "user": {
      "displayName": "장영동",
      "userId": "14740320164219857652"
     },
     "user_tz": -540
    },
    "id": "AIAjnkzF2mkC"
   },
   "outputs": [],
   "source": [
    "encoder6 = LabelEncoder()\n",
    "df_train['sex'] = encoder6.fit_transform(df_train['sex'].values)"
   ]
  },
  {
   "cell_type": "code",
   "execution_count": 30,
   "metadata": {
    "executionInfo": {
     "elapsed": 5,
     "status": "ok",
     "timestamp": 1650902857797,
     "user": {
      "displayName": "장영동",
      "userId": "14740320164219857652"
     },
     "user_tz": -540
    },
    "id": "8OmfD9RV2mmK"
   },
   "outputs": [],
   "source": [
    "encoder7 = LabelEncoder()\n",
    "df_train['native.country'] = encoder7.fit_transform(df_train['native.country'].values)"
   ]
  },
  {
   "cell_type": "code",
   "execution_count": 31,
   "metadata": {
    "executionInfo": {
     "elapsed": 5,
     "status": "ok",
     "timestamp": 1650902859537,
     "user": {
      "displayName": "장영동",
      "userId": "14740320164219857652"
     },
     "user_tz": -540
    },
    "id": "BpLun0BH2moa"
   },
   "outputs": [],
   "source": [
    "df_train.drop(\"education\",axis=1,inplace=True)"
   ]
  },
  {
   "cell_type": "code",
   "execution_count": 32,
   "metadata": {
    "colab": {
     "base_uri": "https://localhost:8080/"
    },
    "executionInfo": {
     "elapsed": 7,
     "status": "ok",
     "timestamp": 1650902862027,
     "user": {
      "displayName": "장영동",
      "userId": "14740320164219857652"
     },
     "user_tz": -540
    },
    "id": "PCGubt-b2_gG",
    "outputId": "a8f3fcf5-e94b-4f5d-f7cd-fd4b676bfebd"
   },
   "outputs": [
    {
     "name": "stdout",
     "output_type": "stream",
     "text": [
      "<class 'pandas.core.frame.DataFrame'>\n",
      "RangeIndex: 17480 entries, 0 to 17479\n",
      "Data columns (total 14 columns):\n",
      " #   Column          Non-Null Count  Dtype\n",
      "---  ------          --------------  -----\n",
      " 0   age             17480 non-null  int64\n",
      " 1   workclass       17480 non-null  int64\n",
      " 2   fnlwgt          17480 non-null  int64\n",
      " 3   education.num   17480 non-null  int64\n",
      " 4   marital.status  17480 non-null  int64\n",
      " 5   occupation      17480 non-null  int64\n",
      " 6   relationship    17480 non-null  int64\n",
      " 7   race            17480 non-null  int64\n",
      " 8   sex             17480 non-null  int64\n",
      " 9   capital.gain    17480 non-null  int64\n",
      " 10  capital.loss    17480 non-null  int64\n",
      " 11  hours.per.week  17480 non-null  int64\n",
      " 12  native.country  17480 non-null  int64\n",
      " 13  target          17480 non-null  int64\n",
      "dtypes: int64(14)\n",
      "memory usage: 1.9 MB\n"
     ]
    }
   ],
   "source": [
    "df_train.info()"
   ]
  },
  {
   "cell_type": "code",
   "execution_count": 33,
   "metadata": {
    "scrolled": false
   },
   "outputs": [],
   "source": [
    "# fig,ax = plt.subplots()\n",
    "# ax.boxplot(df_train[\"hours.per.week\"])\n",
    "# plt.show()"
   ]
  },
  {
   "cell_type": "code",
   "execution_count": 34,
   "metadata": {},
   "outputs": [],
   "source": [
    "# Q3,Q1 = np.percentile(df_train[\"hours.per.week\"],[75,25])\n",
    "# IQR = Q3-Q1\n",
    "# IQR"
   ]
  },
  {
   "cell_type": "code",
   "execution_count": 35,
   "metadata": {},
   "outputs": [],
   "source": [
    "# data = df_train[\"hours.per.week\"]\n",
    "# for idx in data[(Q1-1.5*IQR>data) | (Q3 +1.5*IQR<data)].index:\n",
    "#     df_train.drop(idx, axis=0, inplace = True)"
   ]
  },
  {
   "cell_type": "code",
   "execution_count": 36,
   "metadata": {},
   "outputs": [],
   "source": [
    "# df_train[\"hours.per.week\"].value_counts()"
   ]
  },
  {
   "cell_type": "code",
   "execution_count": 37,
   "metadata": {},
   "outputs": [],
   "source": [
    "from sklearn.preprocessing import RobustScaler\n",
    "from sklearn.preprocessing import StandardScaler"
   ]
  },
  {
   "cell_type": "code",
   "execution_count": 38,
   "metadata": {},
   "outputs": [
    {
     "data": {
      "text/plain": [
       "StandardScaler()"
      ]
     },
     "execution_count": 38,
     "metadata": {},
     "output_type": "execute_result"
    }
   ],
   "source": [
    "scaler = RobustScaler()\n",
    "scaler2 = StandardScaler()\n",
    "scaler.fit(df_train.drop('target',axis=1))\n",
    "scaler2.fit(df_train.drop('target',axis=1))"
   ]
  },
  {
   "cell_type": "code",
   "execution_count": 39,
   "metadata": {},
   "outputs": [],
   "source": [
    "df_train_StandardScaler = scaler2.transform(df_train.drop('target',axis=1))"
   ]
  },
  {
   "cell_type": "code",
   "execution_count": 41,
   "metadata": {},
   "outputs": [],
   "source": [
    "df_train_RobustScaler = scaler.transform(df_train.drop('target',axis=1))"
   ]
  },
  {
   "cell_type": "code",
   "execution_count": 42,
   "metadata": {
    "executionInfo": {
     "elapsed": 1866,
     "status": "ok",
     "timestamp": 1650897282113,
     "user": {
      "displayName": "장영동",
      "userId": "14740320164219857652"
     },
     "user_tz": -540
    },
    "id": "9HR8UbgG3Tbp"
   },
   "outputs": [],
   "source": [
    "import optuna"
   ]
  },
  {
   "cell_type": "code",
   "execution_count": 43,
   "metadata": {
    "executionInfo": {
     "elapsed": 27,
     "status": "ok",
     "timestamp": 1650897282115,
     "user": {
      "displayName": "장영동",
      "userId": "14740320164219857652"
     },
     "user_tz": -540
    },
    "id": "Ft8sYKa43TYK"
   },
   "outputs": [],
   "source": [
    "from lightgbm import LGBMClassifier"
   ]
  },
  {
   "cell_type": "code",
   "execution_count": 44,
   "metadata": {
    "executionInfo": {
     "elapsed": 27,
     "status": "ok",
     "timestamp": 1650897282116,
     "user": {
      "displayName": "장영동",
      "userId": "14740320164219857652"
     },
     "user_tz": -540
    },
    "id": "veiOW-u63TdG"
   },
   "outputs": [],
   "source": [
    "from sklearn.model_selection import train_test_split"
   ]
  },
  {
   "cell_type": "code",
   "execution_count": 45,
   "metadata": {
    "executionInfo": {
     "elapsed": 443,
     "status": "ok",
     "timestamp": 1650902370299,
     "user": {
      "displayName": "장영동",
      "userId": "14740320164219857652"
     },
     "user_tz": -540
    },
    "id": "8ES1OTUqceej"
   },
   "outputs": [],
   "source": [
    "import joblib"
   ]
  },
  {
   "cell_type": "code",
   "execution_count": 46,
   "metadata": {
    "executionInfo": {
     "elapsed": 26,
     "status": "ok",
     "timestamp": 1650897282116,
     "user": {
      "displayName": "장영동",
      "userId": "14740320164219857652"
     },
     "user_tz": -540
    },
    "id": "Rgwe1I1_3kST"
   },
   "outputs": [],
   "source": [
    "train_X = df_train_RobustScaler\n",
    "train_y = df_train.loc[:,\"target\"]"
   ]
  },
  {
   "cell_type": "code",
   "execution_count": 47,
   "metadata": {
    "executionInfo": {
     "elapsed": 27,
     "status": "ok",
     "timestamp": 1650897282117,
     "user": {
      "displayName": "장영동",
      "userId": "14740320164219857652"
     },
     "user_tz": -540
    },
    "id": "RPErJfEF3kVB"
   },
   "outputs": [],
   "source": [
    "X_train, X_test, y_train, y_test = train_test_split(train_X,\n",
    "                                                    train_y,\n",
    "                                                    test_size= 0.2,\n",
    "                                                    random_state=1234,\n",
    "                                                    stratify=train_y)"
   ]
  },
  {
   "cell_type": "code",
   "execution_count": 48,
   "metadata": {
    "executionInfo": {
     "elapsed": 27,
     "status": "ok",
     "timestamp": 1650897282118,
     "user": {
      "displayName": "장영동",
      "userId": "14740320164219857652"
     },
     "user_tz": -540
    },
    "id": "BMXwe7BE3kX9"
   },
   "outputs": [],
   "source": [
    "from sklearn.model_selection import KFold"
   ]
  },
  {
   "cell_type": "code",
   "execution_count": 49,
   "metadata": {
    "executionInfo": {
     "elapsed": 27,
     "status": "ok",
     "timestamp": 1650897282119,
     "user": {
      "displayName": "장영동",
      "userId": "14740320164219857652"
     },
     "user_tz": -540
    },
    "id": "HdY4rkgL4i8k"
   },
   "outputs": [],
   "source": [
    "kfold = KFold(n_splits = 5, random_state=1234,shuffle=True )"
   ]
  },
  {
   "cell_type": "code",
   "execution_count": 50,
   "metadata": {
    "executionInfo": {
     "elapsed": 26,
     "status": "ok",
     "timestamp": 1650897282119,
     "user": {
      "displayName": "장영동",
      "userId": "14740320164219857652"
     },
     "user_tz": -540
    },
    "id": "ZyZibRMN4vqE"
   },
   "outputs": [],
   "source": [
    "# 대충 돌릴때 체크 : cross-val\n",
    "from sklearn.model_selection import cross_val_score\n",
    "\n",
    "# 평가\n",
    "from sklearn.metrics import accuracy_score"
   ]
  },
  {
   "cell_type": "code",
   "execution_count": 51,
   "metadata": {
    "colab": {
     "base_uri": "https://localhost:8080/"
    },
    "executionInfo": {
     "elapsed": 1591,
     "status": "ok",
     "timestamp": 1650897283685,
     "user": {
      "displayName": "장영동",
      "userId": "14740320164219857652"
     },
     "user_tz": -540
    },
    "id": "qNwT7VUK4kUe",
    "outputId": "d7d02d8c-3ccf-4c96-ae84-906ebbd569fd"
   },
   "outputs": [
    {
     "name": "stdout",
     "output_type": "stream",
     "text": [
      "K-Fold 0번째 검증 정확도 : 0.8620\n",
      "K-Fold 1번째 검증 정확도 : 0.8602\n",
      "K-Fold 2번째 검증 정확도 : 0.8663\n",
      "K-Fold 3번째 검증 정확도 : 0.8681\n",
      "K-Fold 4번째 검증 정확도 : 0.8691\n",
      "K-Fold 평균 정확도 : 0.8651318626179798\n"
     ]
    }
   ],
   "source": [
    "lgbm = LGBMClassifier(n_jobs=-1, random_state=1234)\n",
    "scores = cross_val_score(lgbm, X_train, y_train ,\n",
    "                         cv=kfold, scoring=\"accuracy\")\n",
    "for iter_count, acc in enumerate(scores):\n",
    "    print(\"K-Fold {0}번째 검증 정확도 : {1:.4f}\".format(iter_count,acc ))\n",
    "print(\"K-Fold 평균 정확도 :\", scores.mean())"
   ]
  },
  {
   "cell_type": "code",
   "execution_count": 52,
   "metadata": {
    "id": "UC3VWgF64_Zl",
    "scrolled": true
   },
   "outputs": [
    {
     "name": "stderr",
     "output_type": "stream",
     "text": [
      "\u001b[32m[I 2022-04-28 15:03:50,478]\u001b[0m A new study created in memory with name: no-name-615369ed-60a5-4be7-a463-c85e3a43b5dd\u001b[0m\n",
      "\u001b[32m[I 2022-04-28 15:06:04,412]\u001b[0m Trial 0 finished with value: 0.85976884593804 and parameters: {'boosting_type': 'dart', 'num_leaves': 5, 'max_depth': 15, 'learning_rate': 0.2820407871435899, 'n_estimators': 1915, 'min_child_weight': 0.492464335983268, 'min_child_samples': 33, 'subsample': 0.5188912375318303, 'reg_alpha': 16.529638093263273, 'reg_lambda': 0.00010046440444626717}. Best is trial 0 with value: 0.85976884593804.\u001b[0m\n",
      "\u001b[32m[I 2022-04-28 15:07:29,820]\u001b[0m Trial 1 finished with value: 0.8473258953620346 and parameters: {'boosting_type': 'dart', 'num_leaves': 3, 'max_depth': 20, 'learning_rate': 0.3178983698949784, 'n_estimators': 2008, 'min_child_weight': 0.7875073613630613, 'min_child_samples': 38, 'subsample': 0.40612847933875174, 'reg_alpha': 94.51928884513423, 'reg_lambda': 3.8928865557489374}. Best is trial 0 with value: 0.85976884593804.\u001b[0m\n",
      "\u001b[32m[I 2022-04-28 15:07:48,935]\u001b[0m Trial 2 finished with value: 0.8522600088077201 and parameters: {'boosting_type': 'goss', 'num_leaves': 9, 'max_depth': 12, 'learning_rate': 0.1045332315160784, 'n_estimators': 1716, 'min_child_weight': 0.35526089279572237, 'min_child_samples': 9, 'subsample': 0.8993610601064714, 'reg_alpha': 1.4922240722330124e-06, 'reg_lambda': 0.3324927670571525}. Best is trial 0 with value: 0.85976884593804.\u001b[0m\n",
      "\u001b[32m[I 2022-04-28 15:07:57,595]\u001b[0m Trial 3 finished with value: 0.8626293346181761 and parameters: {'boosting_type': 'gbdt', 'num_leaves': 7, 'max_depth': 14, 'learning_rate': 0.11165100621647978, 'n_estimators': 1437, 'min_child_weight': 0.753309741710288, 'min_child_samples': 44, 'subsample': 0.15476954760339423, 'reg_alpha': 0.000468049498322234, 'reg_lambda': 1.7354909523221433}. Best is trial 3 with value: 0.8626293346181761.\u001b[0m\n",
      "\u001b[32m[I 2022-04-28 15:09:53,444]\u001b[0m Trial 4 finished with value: 0.8656327825183634 and parameters: {'boosting_type': 'dart', 'num_leaves': 7, 'max_depth': 7, 'learning_rate': 0.25323809678649206, 'n_estimators': 1528, 'min_child_weight': 0.21924473572646364, 'min_child_samples': 34, 'subsample': 0.6002849439753069, 'reg_alpha': 5.298690710814539e-06, 'reg_lambda': 3.520589009603651}. Best is trial 4 with value: 0.8656327825183634.\u001b[0m\n",
      "\u001b[32m[I 2022-04-28 15:10:58,945]\u001b[0m Trial 5 finished with value: 0.8622002012170202 and parameters: {'boosting_type': 'dart', 'num_leaves': 10, 'max_depth': 7, 'learning_rate': 0.27769526369197534, 'n_estimators': 979, 'min_child_weight': 0.23462227262773905, 'min_child_samples': 5, 'subsample': 0.6173182656900378, 'reg_alpha': 0.62902964626962, 'reg_lambda': 4.616587395931874e-06}. Best is trial 4 with value: 0.8656327825183634.\u001b[0m\n",
      "\u001b[32m[I 2022-04-28 15:11:06,316]\u001b[0m Trial 6 finished with value: 0.8595543559597626 and parameters: {'boosting_type': 'gbdt', 'num_leaves': 4, 'max_depth': 16, 'learning_rate': 0.34060165859698804, 'n_estimators': 1581, 'min_child_weight': 0.5591484606299711, 'min_child_samples': 36, 'subsample': 0.6089846137511139, 'reg_alpha': 1.938220587846161, 'reg_lambda': 7.202489051833935}. Best is trial 4 with value: 0.8656327825183634.\u001b[0m\n",
      "\u001b[32m[I 2022-04-28 15:11:20,291]\u001b[0m Trial 7 finished with value: 0.8597689993826412 and parameters: {'boosting_type': 'gbdt', 'num_leaves': 7, 'max_depth': 10, 'learning_rate': 0.06866871631505508, 'n_estimators': 2513, 'min_child_weight': 0.16610511577599044, 'min_child_samples': 47, 'subsample': 0.7271410832491182, 'reg_alpha': 0.32886261741000195, 'reg_lambda': 0.17914072062249994}. Best is trial 4 with value: 0.8656327825183634.\u001b[0m\n",
      "\u001b[32m[I 2022-04-28 15:11:35,783]\u001b[0m Trial 8 finished with value: 0.8564077442467225 and parameters: {'boosting_type': 'goss', 'num_leaves': 5, 'max_depth': 12, 'learning_rate': 0.15815851378118034, 'n_estimators': 2443, 'min_child_weight': 0.49201673594108297, 'min_child_samples': 27, 'subsample': 0.2364240857505713, 'reg_alpha': 0.02326047094367724, 'reg_lambda': 40.56684653125432}. Best is trial 4 with value: 0.8656327825183634.\u001b[0m\n",
      "\u001b[32m[I 2022-04-28 15:11:39,162]\u001b[0m Trial 9 finished with value: 0.765088514518161 and parameters: {'boosting_type': 'gbdt', 'num_leaves': 11, 'max_depth': 7, 'learning_rate': 0.417505301725565, 'n_estimators': 1316, 'min_child_weight': 0.5045063103291997, 'min_child_samples': 9, 'subsample': 0.5734074689303912, 'reg_alpha': 806.6552506607035, 'reg_lambda': 421.5814001720191}. Best is trial 4 with value: 0.8656327825183634.\u001b[0m\n",
      "\u001b[32m[I 2022-04-28 15:11:40,492]\u001b[0m Trial 10 finished with value: 0.8541194249100942 and parameters: {'boosting_type': 'dart', 'num_leaves': 2, 'max_depth': 1, 'learning_rate': 0.4991675605288255, 'n_estimators': 186, 'min_child_weight': 0.307776844672911, 'min_child_samples': 18, 'subsample': 0.9923794632596348, 'reg_alpha': 3.1683134350746985e-06, 'reg_lambda': 0.0005975424511788139}. Best is trial 4 with value: 0.8656327825183634.\u001b[0m\n",
      "\u001b[32m[I 2022-04-28 15:11:44,467]\u001b[0m Trial 11 finished with value: 0.8605554541116248 and parameters: {'boosting_type': 'gbdt', 'num_leaves': 7, 'max_depth': 3, 'learning_rate': 0.19247035284684555, 'n_estimators': 817, 'min_child_weight': 0.8353030576092887, 'min_child_samples': 50, 'subsample': 0.11458015166510094, 'reg_alpha': 0.00027914918195297495, 'reg_lambda': 0.008416957589848001}. Best is trial 4 with value: 0.8656327825183634.\u001b[0m\n",
      "\u001b[32m[I 2022-04-28 15:13:02,790]\u001b[0m Trial 12 finished with value: 0.8510443439552802 and parameters: {'boosting_type': 'dart', 'num_leaves': 8, 'max_depth': 7, 'learning_rate': 0.010009041385666773, 'n_estimators': 1046, 'min_child_weight': 0.6814660609775958, 'min_child_samples': 42, 'subsample': 0.34033815832309794, 'reg_alpha': 0.00024716584835427115, 'reg_lambda': 0.028403784945302296}. Best is trial 4 with value: 0.8656327825183634.\u001b[0m\n",
      "\u001b[32m[I 2022-04-28 15:13:05,194]\u001b[0m Trial 13 finished with value: 0.8591254782996087 and parameters: {'boosting_type': 'gbdt', 'num_leaves': 6, 'max_depth': 16, 'learning_rate': 0.2026676586854538, 'n_estimators': 479, 'min_child_weight': 0.6784487780928267, 'min_child_samples': 26, 'subsample': 0.7954236719776892, 'reg_alpha': 0.00019841622440952772, 'reg_lambda': 685.8077606455663}. Best is trial 4 with value: 0.8656327825183634.\u001b[0m\n",
      "\u001b[32m[I 2022-04-28 15:13:15,687]\u001b[0m Trial 14 finished with value: 0.8576233835250623 and parameters: {'boosting_type': 'goss', 'num_leaves': 8, 'max_depth': 10, 'learning_rate': 0.11262735799558524, 'n_estimators': 1355, 'min_child_weight': 0.12064546723703146, 'min_child_samples': 43, 'subsample': 0.10559010354595347, 'reg_alpha': 0.0036729470194373465, 'reg_lambda': 5.7417597205251285}. Best is trial 4 with value: 0.8656327825183634.\u001b[0m\n",
      "\u001b[32m[I 2022-04-28 15:16:13,414]\u001b[0m Trial 15 finished with value: 0.8619141549064168 and parameters: {'boosting_type': 'dart', 'num_leaves': 6, 'max_depth': 5, 'learning_rate': 0.20423532991733542, 'n_estimators': 2988, 'min_child_weight': 0.36836667008380847, 'min_child_samples': 29, 'subsample': 0.42421901278321367, 'reg_alpha': 1.7654363920233667e-05, 'reg_lambda': 0.47755248236863057}. Best is trial 4 with value: 0.8656327825183634.\u001b[0m\n",
      "\u001b[32m[I 2022-04-28 15:16:28,639]\u001b[0m Trial 16 finished with value: 0.8655612261860373 and parameters: {'boosting_type': 'gbdt', 'num_leaves': 9, 'max_depth': 14, 'learning_rate': 0.03808280198981359, 'n_estimators': 2190, 'min_child_weight': 0.8990509266465385, 'min_child_samples': 20, 'subsample': 0.7262152458513074, 'reg_alpha': 2.1238810501099136e-05, 'reg_lambda': 60.878820870550754}. Best is trial 4 with value: 0.8656327825183634.\u001b[0m\n",
      "\u001b[32m[I 2022-04-28 15:16:45,640]\u001b[0m Trial 17 finished with value: 0.8647744645678515 and parameters: {'boosting_type': 'gbdt', 'num_leaves': 9, 'max_depth': 18, 'learning_rate': 0.014856647006351836, 'n_estimators': 2302, 'min_child_weight': 0.6040443652363943, 'min_child_samples': 19, 'subsample': 0.7343877560130693, 'reg_alpha': 1.4871155437562912e-05, 'reg_lambda': 84.36288508430088}. Best is trial 4 with value: 0.8656327825183634.\u001b[0m\n",
      "\u001b[32m[I 2022-04-28 15:20:15,423]\u001b[0m Trial 18 finished with value: 0.8624863498240247 and parameters: {'boosting_type': 'dart', 'num_leaves': 11, 'max_depth': 13, 'learning_rate': 0.3881984960936171, 'n_estimators': 2099, 'min_child_weight': 0.8796728135478157, 'min_child_samples': 22, 'subsample': 0.822403259368985, 'reg_alpha': 2.456367288759937e-05, 'reg_lambda': 41.41451880116577}. Best is trial 4 with value: 0.8656327825183634.\u001b[0m\n"
     ]
    },
    {
     "name": "stderr",
     "output_type": "stream",
     "text": [
      "\u001b[32m[I 2022-04-28 15:20:39,893]\u001b[0m Trial 19 finished with value: 0.8128579670738574 and parameters: {'boosting_type': 'goss', 'num_leaves': 9, 'max_depth': 9, 'learning_rate': 0.4900754710513354, 'n_estimators': 2913, 'min_child_weight': 0.41010580473237235, 'min_child_samples': 14, 'subsample': 0.6767824903368144, 'reg_alpha': 0.00933965158376114, 'reg_lambda': 0.0035985685023617476}. Best is trial 4 with value: 0.8656327825183634.\u001b[0m\n",
      "\u001b[32m[I 2022-04-28 15:20:57,318]\u001b[0m Trial 20 finished with value: 0.8601261672658678 and parameters: {'boosting_type': 'gbdt', 'num_leaves': 10, 'max_depth': 5, 'learning_rate': 0.2304780053517681, 'n_estimators': 2666, 'min_child_weight': 0.2002221949234207, 'min_child_samples': 33, 'subsample': 0.49343160898555505, 'reg_alpha': 1.2057066926156046e-06, 'reg_lambda': 100.93045976301718}. Best is trial 4 with value: 0.8656327825183634.\u001b[0m\n",
      "\u001b[32m[I 2022-04-28 15:21:15,832]\u001b[0m Trial 21 finished with value: 0.8638448460260151 and parameters: {'boosting_type': 'gbdt', 'num_leaves': 9, 'max_depth': 19, 'learning_rate': 0.011522579269823103, 'n_estimators': 2227, 'min_child_weight': 0.61351574211189, 'min_child_samples': 20, 'subsample': 0.7378162750192968, 'reg_alpha': 2.0772704260304517e-05, 'reg_lambda': 62.231110512650005}. Best is trial 4 with value: 0.8656327825183634.\u001b[0m\n",
      "\u001b[32m[I 2022-04-28 15:21:28,930]\u001b[0m Trial 22 finished with value: 0.8596260913107902 and parameters: {'boosting_type': 'gbdt', 'num_leaves': 8, 'max_depth': 17, 'learning_rate': 0.051612189183216806, 'n_estimators': 1810, 'min_child_weight': 0.8974169874349036, 'min_child_samples': 15, 'subsample': 0.8718192394716334, 'reg_alpha': 2.0602230319586117e-05, 'reg_lambda': 928.7410486280191}. Best is trial 4 with value: 0.8656327825183634.\u001b[0m\n",
      "\u001b[32m[I 2022-04-28 15:21:57,551]\u001b[0m Trial 23 finished with value: 0.8650606387489559 and parameters: {'boosting_type': 'gbdt', 'num_leaves': 10, 'max_depth': 18, 'learning_rate': 0.0554104402087384, 'n_estimators': 2279, 'min_child_weight': 0.7190742847004818, 'min_child_samples': 22, 'subsample': 0.6720669924418666, 'reg_alpha': 8.344843578964302e-06, 'reg_lambda': 11.644662152659896}. Best is trial 4 with value: 0.8656327825183634.\u001b[0m\n",
      "\u001b[32m[I 2022-04-28 15:22:20,920]\u001b[0m Trial 24 finished with value: 0.8572657297339322 and parameters: {'boosting_type': 'gbdt', 'num_leaves': 10, 'max_depth': 18, 'learning_rate': 0.14215869523780322, 'n_estimators': 2742, 'min_child_weight': 0.7626099195264222, 'min_child_samples': 23, 'subsample': 0.653279694897289, 'reg_alpha': 0.0017409152098733682, 'reg_lambda': 10.02383228233886}. Best is trial 4 with value: 0.8656327825183634.\u001b[0m\n",
      "\u001b[32m[I 2022-04-28 15:25:11,274]\u001b[0m Trial 25 finished with value: 0.8679210251326912 and parameters: {'boosting_type': 'dart', 'num_leaves': 11, 'max_depth': 14, 'learning_rate': 0.06580307290690818, 'n_estimators': 1678, 'min_child_weight': 0.7081855735822544, 'min_child_samples': 30, 'subsample': 0.48948047631813413, 'reg_alpha': 9.660692544449487e-05, 'reg_lambda': 0.7419284644623985}. Best is trial 25 with value: 0.8679210251326912.\u001b[0m\n",
      "\u001b[32m[I 2022-04-28 15:27:59,919]\u001b[0m Trial 26 finished with value: 0.8685645462157237 and parameters: {'boosting_type': 'dart', 'num_leaves': 11, 'max_depth': 12, 'learning_rate': 0.0728546017718334, 'n_estimators': 1676, 'min_child_weight': 0.8198420531283602, 'min_child_samples': 30, 'subsample': 0.4506369638789091, 'reg_alpha': 7.152969365995392e-05, 'reg_lambda': 0.1179859284421532}. Best is trial 26 with value: 0.8685645462157237.\u001b[0m\n",
      "\u001b[32m[I 2022-04-28 15:30:02,471]\u001b[0m Trial 27 finished with value: 0.8669912531462536 and parameters: {'boosting_type': 'dart', 'num_leaves': 11, 'max_depth': 12, 'learning_rate': 0.15086197814426044, 'n_estimators': 1173, 'min_child_weight': 0.8182330344435915, 'min_child_samples': 31, 'subsample': 0.3401852236237892, 'reg_alpha': 9.330664394974579e-05, 'reg_lambda': 0.07182819736030811}. Best is trial 26 with value: 0.8685645462157237.\u001b[0m\n",
      "\u001b[32m[I 2022-04-28 15:31:47,577]\u001b[0m Trial 28 finished with value: 0.8651323740999836 and parameters: {'boosting_type': 'dart', 'num_leaves': 11, 'max_depth': 11, 'learning_rate': 0.16389832822504705, 'n_estimators': 1179, 'min_child_weight': 0.8196807421023169, 'min_child_samples': 30, 'subsample': 0.2995426858529583, 'reg_alpha': 0.09754217729632747, 'reg_lambda': 0.06739033321830601}. Best is trial 26 with value: 0.8685645462157237.\u001b[0m\n",
      "\u001b[32m[I 2022-04-28 15:34:45,105]\u001b[0m Trial 29 finished with value: 0.8662047984172702 and parameters: {'boosting_type': 'dart', 'num_leaves': 11, 'max_depth': 14, 'learning_rate': 0.07461967721648469, 'n_estimators': 1860, 'min_child_weight': 0.8230121560244357, 'min_child_samples': 39, 'subsample': 0.5063555491933275, 'reg_alpha': 8.660285437253207e-05, 'reg_lambda': 0.0008134289594639714}. Best is trial 26 with value: 0.8685645462157237.\u001b[0m\n",
      "\u001b[32m[I 2022-04-28 15:35:31,382]\u001b[0m Trial 30 finished with value: 0.8681356429814695 and parameters: {'boosting_type': 'dart', 'num_leaves': 11, 'max_depth': 9, 'learning_rate': 0.10126206465893522, 'n_estimators': 621, 'min_child_weight': 0.6837603591453372, 'min_child_samples': 31, 'subsample': 0.4421559625321351, 'reg_alpha': 0.0013414122440112738, 'reg_lambda': 0.02168538698141431}. Best is trial 26 with value: 0.8685645462157237.\u001b[0m\n",
      "\u001b[32m[I 2022-04-28 15:36:20,964]\u001b[0m Trial 31 finished with value: 0.8678495455226656 and parameters: {'boosting_type': 'dart', 'num_leaves': 11, 'max_depth': 9, 'learning_rate': 0.0926750465457944, 'n_estimators': 670, 'min_child_weight': 0.6963497962220275, 'min_child_samples': 32, 'subsample': 0.42256150534456205, 'reg_alpha': 0.0014082338324588354, 'reg_lambda': 0.02116328451265866}. Best is trial 26 with value: 0.8685645462157237.\u001b[0m\n",
      "\u001b[32m[I 2022-04-28 15:37:19,850]\u001b[0m Trial 32 finished with value: 0.867563524786162 and parameters: {'boosting_type': 'dart', 'num_leaves': 10, 'max_depth': 9, 'learning_rate': 0.09171677479320693, 'n_estimators': 586, 'min_child_weight': 0.6779997991493988, 'min_child_samples': 25, 'subsample': 0.4494946692828508, 'reg_alpha': 0.0030281006285889614, 'reg_lambda': 0.014051010564120657}. Best is trial 26 with value: 0.8685645462157237.\u001b[0m\n",
      "\u001b[32m[I 2022-04-28 15:37:48,196]\u001b[0m Trial 33 finished with value: 0.866633803947925 and parameters: {'boosting_type': 'dart', 'num_leaves': 11, 'max_depth': 9, 'learning_rate': 0.13241326220552363, 'n_estimators': 287, 'min_child_weight': 0.7207087424286589, 'min_child_samples': 37, 'subsample': 0.39263450337602257, 'reg_alpha': 0.0012906126779002871, 'reg_lambda': 0.7736959114300045}. Best is trial 26 with value: 0.8685645462157237.\u001b[0m\n",
      "\u001b[32m[I 2022-04-28 15:38:54,114]\u001b[0m Trial 34 finished with value: 0.8684217404402734 and parameters: {'boosting_type': 'dart', 'num_leaves': 10, 'max_depth': 11, 'learning_rate': 0.09128532113413448, 'n_estimators': 809, 'min_child_weight': 0.6168014173961556, 'min_child_samples': 33, 'subsample': 0.47577343013155643, 'reg_alpha': 0.0005951931675667651, 'reg_lambda': 0.0032548764547041336}. Best is trial 26 with value: 0.8685645462157237.\u001b[0m\n",
      "\u001b[32m[I 2022-04-28 15:41:26,092]\u001b[0m Trial 35 finished with value: 0.8652036235431074 and parameters: {'boosting_type': 'dart', 'num_leaves': 10, 'max_depth': 11, 'learning_rate': 0.11739329156800124, 'n_estimators': 1651, 'min_child_weight': 0.6167404505939862, 'min_child_samples': 40, 'subsample': 0.5339904120225555, 'reg_alpha': 0.01655680532635383, 'reg_lambda': 0.002621110600043459}. Best is trial 26 with value: 0.8685645462157237.\u001b[0m\n",
      "\u001b[32m[I 2022-04-28 15:42:25,714]\u001b[0m Trial 36 finished with value: 0.8664909470242744 and parameters: {'boosting_type': 'dart', 'num_leaves': 10, 'max_depth': 13, 'learning_rate': 0.04194732680621894, 'n_estimators': 776, 'min_child_weight': 0.5543074332710848, 'min_child_samples': 35, 'subsample': 0.2343542075315836, 'reg_alpha': 0.0007438220613634701, 'reg_lambda': 5.744011225350757e-05}. Best is trial 26 with value: 0.8685645462157237.\u001b[0m\n",
      "\u001b[32m[I 2022-04-28 15:46:14,664]\u001b[0m Trial 37 finished with value: 0.8663478343596219 and parameters: {'boosting_type': 'dart', 'num_leaves': 11, 'max_depth': 15, 'learning_rate': 0.08168714839792694, 'n_estimators': 1944, 'min_child_weight': 0.7647077476812434, 'min_child_samples': 29, 'subsample': 0.4778606077612883, 'reg_alpha': 5.6080705193845774e-05, 'reg_lambda': 0.00013299028355631345}. Best is trial 26 with value: 0.8685645462157237.\u001b[0m\n"
     ]
    },
    {
     "name": "stderr",
     "output_type": "stream",
     "text": [
      "\u001b[32m[I 2022-04-28 15:46:38,670]\u001b[0m Trial 38 finished with value: 0.8668486519636049 and parameters: {'boosting_type': 'dart', 'num_leaves': 10, 'max_depth': 12, 'learning_rate': 0.12566234559936074, 'n_estimators': 388, 'min_child_weight': 0.6559399415663526, 'min_child_samples': 34, 'subsample': 0.36695634115311476, 'reg_alpha': 0.0051063400825797755, 'reg_lambda': 0.11386675096959514}. Best is trial 26 with value: 0.8685645462157237.\u001b[0m\n",
      "\u001b[32m[I 2022-04-28 15:48:03,434]\u001b[0m Trial 39 finished with value: 0.8678495966708659 and parameters: {'boosting_type': 'dart', 'num_leaves': 8, 'max_depth': 8, 'learning_rate': 0.1792471385596145, 'n_estimators': 973, 'min_child_weight': 0.5682339088763595, 'min_child_samples': 27, 'subsample': 0.5596964686529845, 'reg_alpha': 0.12282321523633795, 'reg_lambda': 2.0487908869221276}. Best is trial 26 with value: 0.8685645462157237.\u001b[0m\n",
      "\u001b[32m[I 2022-04-28 15:48:20,853]\u001b[0m Trial 40 finished with value: 0.8464677052820235 and parameters: {'boosting_type': 'goss', 'num_leaves': 9, 'max_depth': 15, 'learning_rate': 0.29227691767923086, 'n_estimators': 1655, 'min_child_weight': 0.5164301836551805, 'min_child_samples': 38, 'subsample': 0.2777795623140925, 'reg_alpha': 9.862178723677761, 'reg_lambda': 0.6949915381482099}. Best is trial 26 with value: 0.8685645462157237.\u001b[0m\n",
      "\u001b[32m[I 2022-04-28 15:49:42,539]\u001b[0m Trial 41 finished with value: 0.8672775040496589 and parameters: {'boosting_type': 'dart', 'num_leaves': 8, 'max_depth': 8, 'learning_rate': 0.1783912650087728, 'n_estimators': 999, 'min_child_weight': 0.5758451751243757, 'min_child_samples': 28, 'subsample': 0.5351325266174795, 'reg_alpha': 0.0656233130468953, 'reg_lambda': 1.4297684344604356}. Best is trial 26 with value: 0.8685645462157237.\u001b[0m\n",
      "\u001b[32m[I 2022-04-28 15:52:35,673]\u001b[0m Trial 42 finished with value: 0.8647744645678515 and parameters: {'boosting_type': 'dart', 'num_leaves': 11, 'max_depth': 5, 'learning_rate': 0.2441085451369467, 'n_estimators': 1454, 'min_child_weight': 0.46580647236950634, 'min_child_samples': 24, 'subsample': 0.5773419065381903, 'reg_alpha': 6.99599799893266, 'reg_lambda': 0.16071060406387994}. Best is trial 26 with value: 0.8685645462157237.\u001b[0m\n",
      "\u001b[32m[I 2022-04-28 15:53:35,321]\u001b[0m Trial 43 finished with value: 0.8643455613335973 and parameters: {'boosting_type': 'dart', 'num_leaves': 4, 'max_depth': 11, 'learning_rate': 0.10111837868059102, 'n_estimators': 876, 'min_child_weight': 0.6511296099075813, 'min_child_samples': 27, 'subsample': 0.46900637974109627, 'reg_alpha': 0.19958056290064147, 'reg_lambda': 0.004526234651685467}. Best is trial 26 with value: 0.8685645462157237.\u001b[0m\n",
      "\u001b[32m[I 2022-04-28 15:55:45,796]\u001b[0m Trial 44 finished with value: 0.8679927860578189 and parameters: {'boosting_type': 'dart', 'num_leaves': 10, 'max_depth': 13, 'learning_rate': 0.06564931501321983, 'n_estimators': 1122, 'min_child_weight': 0.7301489831935201, 'min_child_samples': 31, 'subsample': 0.5470545203529678, 'reg_alpha': 0.6903949467282402, 'reg_lambda': 2.1308783630378083}. Best is trial 26 with value: 0.8685645462157237.\u001b[0m\n",
      "\u001b[32m[I 2022-04-28 15:58:32,586]\u001b[0m Trial 45 finished with value: 0.8663478343596219 and parameters: {'boosting_type': 'dart', 'num_leaves': 10, 'max_depth': 13, 'learning_rate': 0.031987708294497645, 'n_estimators': 1144, 'min_child_weight': 0.733363272487584, 'min_child_samples': 32, 'subsample': 0.6051978772872119, 'reg_alpha': 1.581983244112065, 'reg_lambda': 0.2642806411493512}. Best is trial 26 with value: 0.8685645462157237.\u001b[0m\n",
      "\u001b[32m[I 2022-04-28 16:01:22,463]\u001b[0m Trial 46 finished with value: 0.8678496222449661 and parameters: {'boosting_type': 'dart', 'num_leaves': 11, 'max_depth': 14, 'learning_rate': 0.0614370327252418, 'n_estimators': 1265, 'min_child_weight': 0.7845575274434442, 'min_child_samples': 36, 'subsample': 0.39213729982638074, 'reg_alpha': 0.0006892484523145296, 'reg_lambda': 0.0013529312005876116}. Best is trial 26 with value: 0.8685645462157237.\u001b[0m\n",
      "\u001b[32m[I 2022-04-28 16:04:03,965]\u001b[0m Trial 47 finished with value: 0.8576952467465908 and parameters: {'boosting_type': 'dart', 'num_leaves': 9, 'max_depth': 10, 'learning_rate': 0.07170391426384026, 'n_estimators': 1500, 'min_child_weight': 0.8566894914395835, 'min_child_samples': 41, 'subsample': 0.44096604770379927, 'reg_alpha': 43.731513407679756, 'reg_lambda': 0.00024902596374223385}. Best is trial 26 with value: 0.8685645462157237.\u001b[0m\n",
      "\u001b[32m[I 2022-04-28 16:04:12,864]\u001b[0m Trial 48 finished with value: 0.8509731200862563 and parameters: {'boosting_type': 'dart', 'num_leaves': 2, 'max_depth': 15, 'learning_rate': 0.10614043131215772, 'n_estimators': 548, 'min_child_weight': 0.7787151773045268, 'min_child_samples': 45, 'subsample': 0.5074397284489846, 'reg_alpha': 3.962987374520149e-06, 'reg_lambda': 3.2493561585382535e-05}. Best is trial 26 with value: 0.8685645462157237.\u001b[0m\n",
      "\u001b[32m[I 2022-04-28 16:04:19,342]\u001b[0m Trial 49 finished with value: 0.8596256821251872 and parameters: {'boosting_type': 'goss', 'num_leaves': 10, 'max_depth': 13, 'learning_rate': 0.08205858425337563, 'n_estimators': 711, 'min_child_weight': 0.7347608414349556, 'min_child_samples': 34, 'subsample': 0.3333277809170222, 'reg_alpha': 0.00024317868638047682, 'reg_lambda': 0.011002908579028806}. Best is trial 26 with value: 0.8685645462157237.\u001b[0m\n"
     ]
    }
   ],
   "source": [
    "def objective_lgbm(trial) :\n",
    "    params = {\n",
    "      \"boosting\": trial.suggest_categorical(\"boosting_type\",['gbdt','dart','goss']),\n",
    "      \"num_leaves\" : trial.suggest_int(\"num_leaves\",2,2^9),\n",
    "      \"max_depth\" : trial.suggest_int(\"max_depth\",1,20),\n",
    "      \"learning_rate\" : trial.suggest_uniform(\"learning_rate\",0.01,0.5),\n",
    "      \"n_estimators\" : trial.suggest_int(\"n_estimators\",100, 3000),\n",
    "      \"min_child_weight\" : trial.suggest_float(\"min_child_weight\",0.1,0.9 ),\n",
    "      \"min_child_samples\" : trial.suggest_int(\"min_child_samples\",2,50) ,\n",
    "      \"subsample\" : trial.suggest_uniform(\"subsample\",0.1,1),\n",
    "      \"reg_alpha\":trial.suggest_loguniform(\"reg_alpha\",1e-6, 1e3), #10의 마이너스 6승부터 1000까지 \n",
    "      \"reg_lambda\":trial.suggest_loguniform(\"reg_lambda\",1e-6,1e3)  \n",
    "      }\n",
    "    lgbm = LGBMClassifier(**params, n_jobs=-1,random_state=1234)\n",
    "  # 3. Cross-Val 진행\n",
    "    scores = cross_val_score( lgbm, X_train, y_train, cv=kfold, scoring=\"accuracy\")\n",
    "\n",
    "    acc_mean = scores.mean()\n",
    "  # 4. target -> return\n",
    "    return acc_mean\n",
    "  \n",
    "lgbm_study = optuna.create_study(direction=\"maximize\")\n",
    "\n",
    "lgbm_study.optimize(objective_lgbm,n_trials=50)"
   ]
  },
  {
   "cell_type": "code",
   "execution_count": 53,
   "metadata": {
    "colab": {
     "base_uri": "https://localhost:8080/"
    },
    "executionInfo": {
     "elapsed": 434,
     "status": "ok",
     "timestamp": 1650902194648,
     "user": {
      "displayName": "장영동",
      "userId": "14740320164219857652"
     },
     "user_tz": -540
    },
    "id": "BQRFqGW-T5VL",
    "outputId": "15f23d66-9e5c-4b60-d350-69623a8b29e1"
   },
   "outputs": [
    {
     "name": "stdout",
     "output_type": "stream",
     "text": [
      "{'boosting_type': 'dart', 'num_leaves': 11, 'max_depth': 12, 'learning_rate': 0.0728546017718334, 'n_estimators': 1676, 'min_child_weight': 0.8198420531283602, 'min_child_samples': 30, 'subsample': 0.4506369638789091, 'reg_alpha': 7.152969365995392e-05, 'reg_lambda': 0.1179859284421532}\n",
      "------------\n",
      "0.8685645462157237\n"
     ]
    }
   ],
   "source": [
    "print(lgbm_study.best_params) # xgbc_study.best_trail.params\n",
    "print(\"------------\")\n",
    "print(lgbm_study.best_value)"
   ]
  },
  {
   "cell_type": "code",
   "execution_count": 54,
   "metadata": {
    "colab": {
     "base_uri": "https://localhost:8080/"
    },
    "executionInfo": {
     "elapsed": 46329,
     "status": "ok",
     "timestamp": 1650902919073,
     "user": {
      "displayName": "장영동",
      "userId": "14740320164219857652"
     },
     "user_tz": -540
    },
    "id": "RNfXQSIrUV4a",
    "outputId": "ccb6431c-20ad-45be-d572-9dac07749dc6"
   },
   "outputs": [
    {
     "data": {
      "text/plain": [
       "0.8810068649885584"
      ]
     },
     "execution_count": 54,
     "metadata": {},
     "output_type": "execute_result"
    }
   ],
   "source": [
    "optimized_lgbm = LGBMClassifier( \n",
    "                        boosting=lgbm_study.best_params[\"boosting_type\"],\n",
    "                        num_leaves = lgbm_study.best_params[\"num_leaves\"],\n",
    "                        max_depth = lgbm_study.best_params[\"max_depth\"],\n",
    "                        learning_rate = lgbm_study.best_params[\"learning_rate\"],\n",
    "                        n_estimators = lgbm_study.best_params[\"n_estimators\"],\n",
    "                        min_child_weight = lgbm_study.best_params[\"min_child_weight\"],\n",
    "                        min_child_samples = lgbm_study.best_params[\"min_child_samples\"],\n",
    "                        subsample = lgbm_study.best_params[\"subsample\"],\n",
    "                        reg_alpha = lgbm_study.best_params[\"reg_alpha\"],\n",
    "                        reg_lambda = lgbm_study.best_params[\"reg_lambda\"],\n",
    "                        n_jobs= -1,\n",
    "                        random_state=1234)\n",
    "optimized_lgbm.fit(X_train, y_train)\n",
    "accuracy_score(y_test, optimized_lgbm.predict(X_test))"
   ]
  },
  {
   "cell_type": "code",
   "execution_count": null,
   "metadata": {
    "id": "gpcycVhrd-X1"
   },
   "outputs": [],
   "source": [
    "# 0.8801487414187643"
   ]
  },
  {
   "cell_type": "markdown",
   "metadata": {
    "id": "dDG2V-PSsV-a"
   },
   "source": [
    "예측 시작"
   ]
  },
  {
   "cell_type": "code",
   "execution_count": 55,
   "metadata": {
    "colab": {
     "base_uri": "https://localhost:8080/",
     "height": 423
    },
    "executionInfo": {
     "elapsed": 503,
     "status": "ok",
     "timestamp": 1650906762664,
     "user": {
      "displayName": "장영동",
      "userId": "14740320164219857652"
     },
     "user_tz": -540
    },
    "id": "PkVlDd3Md-as",
    "outputId": "beb53e47-81bb-4de9-82df-e67f1f50d945"
   },
   "outputs": [
    {
     "data": {
      "text/html": [
       "<div>\n",
       "<style scoped>\n",
       "    .dataframe tbody tr th:only-of-type {\n",
       "        vertical-align: middle;\n",
       "    }\n",
       "\n",
       "    .dataframe tbody tr th {\n",
       "        vertical-align: top;\n",
       "    }\n",
       "\n",
       "    .dataframe thead th {\n",
       "        text-align: right;\n",
       "    }\n",
       "</style>\n",
       "<table border=\"1\" class=\"dataframe\">\n",
       "  <thead>\n",
       "    <tr style=\"text-align: right;\">\n",
       "      <th></th>\n",
       "      <th>id</th>\n",
       "      <th>age</th>\n",
       "      <th>workclass</th>\n",
       "      <th>fnlwgt</th>\n",
       "      <th>education</th>\n",
       "      <th>education.num</th>\n",
       "      <th>marital.status</th>\n",
       "      <th>occupation</th>\n",
       "      <th>relationship</th>\n",
       "      <th>race</th>\n",
       "      <th>sex</th>\n",
       "      <th>capital.gain</th>\n",
       "      <th>capital.loss</th>\n",
       "      <th>hours.per.week</th>\n",
       "      <th>native.country</th>\n",
       "    </tr>\n",
       "  </thead>\n",
       "  <tbody>\n",
       "    <tr>\n",
       "      <th>0</th>\n",
       "      <td>0</td>\n",
       "      <td>47</td>\n",
       "      <td>Private</td>\n",
       "      <td>304133</td>\n",
       "      <td>Some-college</td>\n",
       "      <td>10</td>\n",
       "      <td>Married-civ-spouse</td>\n",
       "      <td>Exec-managerial</td>\n",
       "      <td>Husband</td>\n",
       "      <td>White</td>\n",
       "      <td>Male</td>\n",
       "      <td>0</td>\n",
       "      <td>0</td>\n",
       "      <td>45</td>\n",
       "      <td>United-States</td>\n",
       "    </tr>\n",
       "    <tr>\n",
       "      <th>1</th>\n",
       "      <td>1</td>\n",
       "      <td>34</td>\n",
       "      <td>Self-emp-inc</td>\n",
       "      <td>154227</td>\n",
       "      <td>Some-college</td>\n",
       "      <td>10</td>\n",
       "      <td>Never-married</td>\n",
       "      <td>Sales</td>\n",
       "      <td>Not-in-family</td>\n",
       "      <td>White</td>\n",
       "      <td>Male</td>\n",
       "      <td>0</td>\n",
       "      <td>0</td>\n",
       "      <td>75</td>\n",
       "      <td>United-States</td>\n",
       "    </tr>\n",
       "    <tr>\n",
       "      <th>2</th>\n",
       "      <td>2</td>\n",
       "      <td>31</td>\n",
       "      <td>Local-gov</td>\n",
       "      <td>158291</td>\n",
       "      <td>Bachelors</td>\n",
       "      <td>13</td>\n",
       "      <td>Never-married</td>\n",
       "      <td>Craft-repair</td>\n",
       "      <td>Not-in-family</td>\n",
       "      <td>White</td>\n",
       "      <td>Male</td>\n",
       "      <td>8614</td>\n",
       "      <td>0</td>\n",
       "      <td>40</td>\n",
       "      <td>United-States</td>\n",
       "    </tr>\n",
       "    <tr>\n",
       "      <th>3</th>\n",
       "      <td>3</td>\n",
       "      <td>28</td>\n",
       "      <td>Private</td>\n",
       "      <td>183155</td>\n",
       "      <td>Bachelors</td>\n",
       "      <td>13</td>\n",
       "      <td>Married-civ-spouse</td>\n",
       "      <td>Prof-specialty</td>\n",
       "      <td>Husband</td>\n",
       "      <td>White</td>\n",
       "      <td>Male</td>\n",
       "      <td>0</td>\n",
       "      <td>0</td>\n",
       "      <td>55</td>\n",
       "      <td>United-States</td>\n",
       "    </tr>\n",
       "    <tr>\n",
       "      <th>4</th>\n",
       "      <td>4</td>\n",
       "      <td>54</td>\n",
       "      <td>Local-gov</td>\n",
       "      <td>182543</td>\n",
       "      <td>Some-college</td>\n",
       "      <td>10</td>\n",
       "      <td>Widowed</td>\n",
       "      <td>Adm-clerical</td>\n",
       "      <td>Unmarried</td>\n",
       "      <td>White</td>\n",
       "      <td>Female</td>\n",
       "      <td>0</td>\n",
       "      <td>0</td>\n",
       "      <td>40</td>\n",
       "      <td>Mexico</td>\n",
       "    </tr>\n",
       "    <tr>\n",
       "      <th>...</th>\n",
       "      <td>...</td>\n",
       "      <td>...</td>\n",
       "      <td>...</td>\n",
       "      <td>...</td>\n",
       "      <td>...</td>\n",
       "      <td>...</td>\n",
       "      <td>...</td>\n",
       "      <td>...</td>\n",
       "      <td>...</td>\n",
       "      <td>...</td>\n",
       "      <td>...</td>\n",
       "      <td>...</td>\n",
       "      <td>...</td>\n",
       "      <td>...</td>\n",
       "      <td>...</td>\n",
       "    </tr>\n",
       "    <tr>\n",
       "      <th>15076</th>\n",
       "      <td>15076</td>\n",
       "      <td>30</td>\n",
       "      <td>Local-gov</td>\n",
       "      <td>182926</td>\n",
       "      <td>Some-college</td>\n",
       "      <td>10</td>\n",
       "      <td>Married-civ-spouse</td>\n",
       "      <td>Protective-serv</td>\n",
       "      <td>Husband</td>\n",
       "      <td>White</td>\n",
       "      <td>Male</td>\n",
       "      <td>15024</td>\n",
       "      <td>0</td>\n",
       "      <td>40</td>\n",
       "      <td>United-States</td>\n",
       "    </tr>\n",
       "    <tr>\n",
       "      <th>15077</th>\n",
       "      <td>15077</td>\n",
       "      <td>39</td>\n",
       "      <td>Private</td>\n",
       "      <td>176101</td>\n",
       "      <td>Bachelors</td>\n",
       "      <td>13</td>\n",
       "      <td>Married-civ-spouse</td>\n",
       "      <td>Craft-repair</td>\n",
       "      <td>Husband</td>\n",
       "      <td>White</td>\n",
       "      <td>Male</td>\n",
       "      <td>0</td>\n",
       "      <td>0</td>\n",
       "      <td>40</td>\n",
       "      <td>United-States</td>\n",
       "    </tr>\n",
       "    <tr>\n",
       "      <th>15078</th>\n",
       "      <td>15078</td>\n",
       "      <td>48</td>\n",
       "      <td>Private</td>\n",
       "      <td>242406</td>\n",
       "      <td>11th</td>\n",
       "      <td>7</td>\n",
       "      <td>Never-married</td>\n",
       "      <td>Machine-op-inspct</td>\n",
       "      <td>Unmarried</td>\n",
       "      <td>White</td>\n",
       "      <td>Male</td>\n",
       "      <td>0</td>\n",
       "      <td>0</td>\n",
       "      <td>40</td>\n",
       "      <td>Puerto-Rico</td>\n",
       "    </tr>\n",
       "    <tr>\n",
       "      <th>15079</th>\n",
       "      <td>15079</td>\n",
       "      <td>44</td>\n",
       "      <td>Private</td>\n",
       "      <td>100584</td>\n",
       "      <td>HS-grad</td>\n",
       "      <td>9</td>\n",
       "      <td>Married-civ-spouse</td>\n",
       "      <td>Machine-op-inspct</td>\n",
       "      <td>Husband</td>\n",
       "      <td>Amer-Indian-Eskimo</td>\n",
       "      <td>Male</td>\n",
       "      <td>0</td>\n",
       "      <td>0</td>\n",
       "      <td>40</td>\n",
       "      <td>United-States</td>\n",
       "    </tr>\n",
       "    <tr>\n",
       "      <th>15080</th>\n",
       "      <td>15080</td>\n",
       "      <td>30</td>\n",
       "      <td>Private</td>\n",
       "      <td>345898</td>\n",
       "      <td>HS-grad</td>\n",
       "      <td>9</td>\n",
       "      <td>Never-married</td>\n",
       "      <td>Craft-repair</td>\n",
       "      <td>Not-in-family</td>\n",
       "      <td>Black</td>\n",
       "      <td>Male</td>\n",
       "      <td>0</td>\n",
       "      <td>0</td>\n",
       "      <td>46</td>\n",
       "      <td>United-States</td>\n",
       "    </tr>\n",
       "  </tbody>\n",
       "</table>\n",
       "<p>15081 rows × 15 columns</p>\n",
       "</div>"
      ],
      "text/plain": [
       "          id  age     workclass  fnlwgt     education  education.num  \\\n",
       "0          0   47       Private  304133  Some-college             10   \n",
       "1          1   34  Self-emp-inc  154227  Some-college             10   \n",
       "2          2   31     Local-gov  158291     Bachelors             13   \n",
       "3          3   28       Private  183155     Bachelors             13   \n",
       "4          4   54     Local-gov  182543  Some-college             10   \n",
       "...      ...  ...           ...     ...           ...            ...   \n",
       "15076  15076   30     Local-gov  182926  Some-college             10   \n",
       "15077  15077   39       Private  176101     Bachelors             13   \n",
       "15078  15078   48       Private  242406          11th              7   \n",
       "15079  15079   44       Private  100584       HS-grad              9   \n",
       "15080  15080   30       Private  345898       HS-grad              9   \n",
       "\n",
       "           marital.status         occupation   relationship  \\\n",
       "0      Married-civ-spouse    Exec-managerial        Husband   \n",
       "1           Never-married              Sales  Not-in-family   \n",
       "2           Never-married       Craft-repair  Not-in-family   \n",
       "3      Married-civ-spouse     Prof-specialty        Husband   \n",
       "4                 Widowed       Adm-clerical      Unmarried   \n",
       "...                   ...                ...            ...   \n",
       "15076  Married-civ-spouse    Protective-serv        Husband   \n",
       "15077  Married-civ-spouse       Craft-repair        Husband   \n",
       "15078       Never-married  Machine-op-inspct      Unmarried   \n",
       "15079  Married-civ-spouse  Machine-op-inspct        Husband   \n",
       "15080       Never-married       Craft-repair  Not-in-family   \n",
       "\n",
       "                     race     sex  capital.gain  capital.loss  hours.per.week  \\\n",
       "0                   White    Male             0             0              45   \n",
       "1                   White    Male             0             0              75   \n",
       "2                   White    Male          8614             0              40   \n",
       "3                   White    Male             0             0              55   \n",
       "4                   White  Female             0             0              40   \n",
       "...                   ...     ...           ...           ...             ...   \n",
       "15076               White    Male         15024             0              40   \n",
       "15077               White    Male             0             0              40   \n",
       "15078               White    Male             0             0              40   \n",
       "15079  Amer-Indian-Eskimo    Male             0             0              40   \n",
       "15080               Black    Male             0             0              46   \n",
       "\n",
       "      native.country  \n",
       "0      United-States  \n",
       "1      United-States  \n",
       "2      United-States  \n",
       "3      United-States  \n",
       "4             Mexico  \n",
       "...              ...  \n",
       "15076  United-States  \n",
       "15077  United-States  \n",
       "15078    Puerto-Rico  \n",
       "15079  United-States  \n",
       "15080  United-States  \n",
       "\n",
       "[15081 rows x 15 columns]"
      ]
     },
     "execution_count": 55,
     "metadata": {},
     "output_type": "execute_result"
    }
   ],
   "source": [
    "df_test = pd.read_csv('test.csv')\n",
    "df_test"
   ]
  },
  {
   "cell_type": "code",
   "execution_count": 56,
   "metadata": {
    "executionInfo": {
     "elapsed": 435,
     "status": "ok",
     "timestamp": 1650906786496,
     "user": {
      "displayName": "장영동",
      "userId": "14740320164219857652"
     },
     "user_tz": -540
    },
    "id": "Y5EYUHXGd-gb"
   },
   "outputs": [],
   "source": [
    "df_test.drop(\"id\",axis=1,inplace=True)"
   ]
  },
  {
   "cell_type": "code",
   "execution_count": 57,
   "metadata": {
    "executionInfo": {
     "elapsed": 2,
     "status": "ok",
     "timestamp": 1650906788303,
     "user": {
      "displayName": "장영동",
      "userId": "14740320164219857652"
     },
     "user_tz": -540
    },
    "id": "Zvz6-QW3sepc"
   },
   "outputs": [],
   "source": [
    "df_test['workclass'] = encoder1.fit_transform(df_test['workclass'].values)\n",
    "df_test['marital.status'] = encoder2.fit_transform(df_test['marital.status'].values)\n",
    "df_test['occupation'] = encoder3.fit_transform(df_test['occupation'].values)\n",
    "df_test['relationship'] = encoder4.fit_transform(df_test['relationship'].values)\n",
    "df_test['race'] = encoder5.fit_transform(df_test['race'].values)\n",
    "df_test['sex'] = encoder6.fit_transform(df_test['sex'].values)\n",
    "df_test['native.country'] = encoder7.fit_transform(df_test['native.country'].values)\n",
    "df_test.drop(\"education\",axis=1,inplace=True)"
   ]
  },
  {
   "cell_type": "code",
   "execution_count": 58,
   "metadata": {
    "colab": {
     "base_uri": "https://localhost:8080/",
     "height": 423
    },
    "executionInfo": {
     "elapsed": 417,
     "status": "ok",
     "timestamp": 1650907183105,
     "user": {
      "displayName": "장영동",
      "userId": "14740320164219857652"
     },
     "user_tz": -540
    },
    "id": "GUyg6GzDvG4g",
    "outputId": "3b8c2657-1225-4387-e5a3-6d12d00476ba"
   },
   "outputs": [],
   "source": [
    "df_test_StandardScaler = scaler.transform(df_test)\n",
    "\n"
   ]
  },
  {
   "cell_type": "code",
   "execution_count": 59,
   "metadata": {
    "id": "_t8RrzTJsxqC"
   },
   "outputs": [],
   "source": [
    "# 일단 가장 높은 정화도인 lgbm으로 예측"
   ]
  },
  {
   "cell_type": "code",
   "execution_count": 60,
   "metadata": {
    "executionInfo": {
     "elapsed": 2400,
     "status": "ok",
     "timestamp": 1650906796680,
     "user": {
      "displayName": "장영동",
      "userId": "14740320164219857652"
     },
     "user_tz": -540
    },
    "id": "IvzXrnTTsxnh"
   },
   "outputs": [],
   "source": [
    "result = optimized_lgbm.predict(df_test_StandardScaler)"
   ]
  },
  {
   "cell_type": "code",
   "execution_count": 61,
   "metadata": {
    "colab": {
     "base_uri": "https://localhost:8080/"
    },
    "executionInfo": {
     "elapsed": 9,
     "status": "ok",
     "timestamp": 1650906798141,
     "user": {
      "displayName": "장영동",
      "userId": "14740320164219857652"
     },
     "user_tz": -540
    },
    "id": "TOXVn4qqsxcP",
    "outputId": "398abbae-9084-47d7-b5d3-98bb2729231d"
   },
   "outputs": [
    {
     "data": {
      "text/plain": [
       "array([1, 0, 1, ..., 0, 0, 0])"
      ]
     },
     "execution_count": 61,
     "metadata": {},
     "output_type": "execute_result"
    }
   ],
   "source": [
    "result"
   ]
  },
  {
   "cell_type": "code",
   "execution_count": 62,
   "metadata": {
    "executionInfo": {
     "elapsed": 401,
     "status": "ok",
     "timestamp": 1650906876370,
     "user": {
      "displayName": "장영동",
      "userId": "14740320164219857652"
     },
     "user_tz": -540
    },
    "id": "U7e00R5vsxYD"
   },
   "outputs": [],
   "source": [
    "submission = pd.read_csv(\"sample_submission.csv\")"
   ]
  },
  {
   "cell_type": "code",
   "execution_count": 63,
   "metadata": {
    "executionInfo": {
     "elapsed": 408,
     "status": "ok",
     "timestamp": 1650906892935,
     "user": {
      "displayName": "장영동",
      "userId": "14740320164219857652"
     },
     "user_tz": -540
    },
    "id": "d2EhPtPKt9Tn"
   },
   "outputs": [],
   "source": [
    "submission[\"target\"] = result"
   ]
  },
  {
   "cell_type": "code",
   "execution_count": 64,
   "metadata": {
    "executionInfo": {
     "elapsed": 422,
     "status": "ok",
     "timestamp": 1650907023355,
     "user": {
      "displayName": "장영동",
      "userId": "14740320164219857652"
     },
     "user_tz": -540
    },
    "id": "PS1NYp0euBUo"
   },
   "outputs": [],
   "source": [
    "submission.to_csv(\"submission_2.csv\",index=False)"
   ]
  },
  {
   "cell_type": "code",
   "execution_count": null,
   "metadata": {
    "colab": {
     "base_uri": "https://localhost:8080/",
     "height": 423
    },
    "executionInfo": {
     "elapsed": 17,
     "status": "ok",
     "timestamp": 1650906960950,
     "user": {
      "displayName": "장영동",
      "userId": "14740320164219857652"
     },
     "user_tz": -540
    },
    "id": "9yNDqXJTuQTD",
    "outputId": "a8ed00e1-247d-4420-97bc-1d1af25bbc38"
   },
   "outputs": [],
   "source": [
    "submission"
   ]
  },
  {
   "cell_type": "code",
   "execution_count": null,
   "metadata": {},
   "outputs": [],
   "source": []
  },
  {
   "cell_type": "code",
   "execution_count": null,
   "metadata": {
    "executionInfo": {
     "elapsed": 417,
     "status": "ok",
     "timestamp": 1650907064717,
     "user": {
      "displayName": "장영동",
      "userId": "14740320164219857652"
     },
     "user_tz": -540
    },
    "id": "0gFpuy8Nd-oU"
   },
   "outputs": [],
   "source": [
    "import collections"
   ]
  },
  {
   "cell_type": "code",
   "execution_count": null,
   "metadata": {
    "executionInfo": {
     "elapsed": 3,
     "status": "ok",
     "timestamp": 1650907087151,
     "user": {
      "displayName": "장영동",
      "userId": "14740320164219857652"
     },
     "user_tz": -540
    },
    "id": "5w1a_tKTur7X"
   },
   "outputs": [],
   "source": [
    "def vote_handmade(x):\n",
    "    p = collections.Counter(x) \n",
    "    if p.most_common()[0][1] >= 2:\n",
    "        return p.most_common()[0][0]\n",
    "    else:\n",
    "        print(\"Check!!!!\")\n",
    "        return x[0]"
   ]
  },
  {
   "cell_type": "code",
   "execution_count": null,
   "metadata": {
    "colab": {
     "base_uri": "https://localhost:8080/",
     "height": 206
    },
    "executionInfo": {
     "elapsed": 6626,
     "status": "ok",
     "timestamp": 1650907247711,
     "user": {
      "displayName": "장영동",
      "userId": "14740320164219857652"
     },
     "user_tz": -540
    },
    "id": "0A3fVM7fur5I",
    "outputId": "70e70ce5-14b5-47d4-ad49-c3faf0f2f40e"
   },
   "outputs": [],
   "source": [
    "X_test_model_total = df_test.copy(deep=True)\n",
    "X_test_model_total[\"rf\"] = optimized_rf.predict(df_test)\n",
    "X_test_model_total[\"xgb\"] = optimized_xgbc.predict(df_test)\n",
    "X_test_model_total[\"lgb\"] = optimized_lgbm.predict(df_test)\n",
    "X_test_model_total.head()"
   ]
  },
  {
   "cell_type": "code",
   "execution_count": null,
   "metadata": {
    "colab": {
     "base_uri": "https://localhost:8080/",
     "height": 206
    },
    "executionInfo": {
     "elapsed": 528,
     "status": "ok",
     "timestamp": 1650907278237,
     "user": {
      "displayName": "장영동",
      "userId": "14740320164219857652"
     },
     "user_tz": -540
    },
    "id": "GOHEF-aQvZ-k",
    "outputId": "461f53fd-39c1-4d68-a4c7-3039fb3c586b"
   },
   "outputs": [],
   "source": [
    "X_test_model_total[\"hard_voting\"] = X_test_model_total.loc[:, [\"rf\",\"xgb\",\"lgb\"]].apply(lambda x : vote_handmade(x),axis=1)\n",
    "X_test_model_total.head()"
   ]
  },
  {
   "cell_type": "code",
   "execution_count": null,
   "metadata": {
    "executionInfo": {
     "elapsed": 413,
     "status": "ok",
     "timestamp": 1650907301874,
     "user": {
      "displayName": "장영동",
      "userId": "14740320164219857652"
     },
     "user_tz": -540
    },
    "id": "5KV2nOtrvfcT"
   },
   "outputs": [],
   "source": [
    "submission = pd.read_csv(\"/content/drive/MyDrive/소득예측경진대회/sample_submission.csv\")"
   ]
  },
  {
   "cell_type": "code",
   "execution_count": null,
   "metadata": {
    "executionInfo": {
     "elapsed": 544,
     "status": "ok",
     "timestamp": 1650907324170,
     "user": {
      "displayName": "장영동",
      "userId": "14740320164219857652"
     },
     "user_tz": -540
    },
    "id": "bN56JolBvl8H"
   },
   "outputs": [],
   "source": [
    "submission[\"target\"] = X_test_model_total[\"hard_voting\"]"
   ]
  },
  {
   "cell_type": "code",
   "execution_count": null,
   "metadata": {
    "executionInfo": {
     "elapsed": 495,
     "status": "ok",
     "timestamp": 1650907346615,
     "user": {
      "displayName": "장영동",
      "userId": "14740320164219857652"
     },
     "user_tz": -540
    },
    "id": "8R_rPGybvrAw"
   },
   "outputs": [],
   "source": [
    "submission.to_csv(\"submission_voting.csv\",index=False)"
   ]
  }
 ],
 "metadata": {
  "colab": {
   "authorship_tag": "ABX9TyMayLHafyRHBNsc9csJbS1N",
   "collapsed_sections": [],
   "mount_file_id": "1elYZkh1okF6L-OjzVTVxHf1ze-XJ27P7",
   "name": "소득예측경진대회.ipynb",
   "provenance": []
  },
  "kernelspec": {
   "display_name": "Python 3",
   "language": "python",
   "name": "python3"
  },
  "language_info": {
   "codemirror_mode": {
    "name": "ipython",
    "version": 3
   },
   "file_extension": ".py",
   "mimetype": "text/x-python",
   "name": "python",
   "nbconvert_exporter": "python",
   "pygments_lexer": "ipython3",
   "version": "3.8.8"
  }
 },
 "nbformat": 4,
 "nbformat_minor": 1
}
